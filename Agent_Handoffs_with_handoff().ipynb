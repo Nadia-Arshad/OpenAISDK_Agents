{
  "nbformat": 4,
  "nbformat_minor": 0,
  "metadata": {
    "colab": {
      "provenance": []
    },
    "kernelspec": {
      "name": "python3",
      "display_name": "Python 3"
    },
    "language_info": {
      "name": "python"
    }
  },
  "cells": [
    {
      "cell_type": "code",
      "execution_count": 1,
      "metadata": {
        "colab": {
          "base_uri": "https://localhost:8080/"
        },
        "id": "BNwid5JRufxx",
        "outputId": "bd34341e-7598-4e73-8fa6-806860624e40"
      },
      "outputs": [
        {
          "output_type": "stream",
          "name": "stdout",
          "text": [
            "\u001b[?25l   \u001b[90m━━━━━━━━━━━━━━━━━━━━━━━━━━━━━━━━━━━━━━━━\u001b[0m \u001b[32m0.0/120.2 kB\u001b[0m \u001b[31m?\u001b[0m eta \u001b[36m-:--:--\u001b[0m\r\u001b[2K   \u001b[90m━━━━━━━━━━━━━━━━━━━━━━━━━━━━━━━━━━━━━━━━\u001b[0m \u001b[32m120.2/120.2 kB\u001b[0m \u001b[31m4.7 MB/s\u001b[0m eta \u001b[36m0:00:00\u001b[0m\n",
            "\u001b[?25h\u001b[?25l   \u001b[90m━━━━━━━━━━━━━━━━━━━━━━━━━━━━━━━━━━━━━━━━\u001b[0m \u001b[32m0.0/129.3 kB\u001b[0m \u001b[31m?\u001b[0m eta \u001b[36m-:--:--\u001b[0m\r\u001b[2K   \u001b[90m━━━━━━━━━━━━━━━━━━━━━━━━━━━━━━━━━━━━━━━━\u001b[0m \u001b[32m129.3/129.3 kB\u001b[0m \u001b[31m9.8 MB/s\u001b[0m eta \u001b[36m0:00:00\u001b[0m\n",
            "\u001b[?25h\u001b[?25l   \u001b[90m━━━━━━━━━━━━━━━━━━━━━━━━━━━━━━━━━━━━━━━━\u001b[0m \u001b[32m0.0/130.3 kB\u001b[0m \u001b[31m?\u001b[0m eta \u001b[36m-:--:--\u001b[0m\r\u001b[2K   \u001b[90m━━━━━━━━━━━━━━━━━━━━━━━━━━━━━━━━━━━━━━━━\u001b[0m \u001b[32m130.3/130.3 kB\u001b[0m \u001b[31m8.1 MB/s\u001b[0m eta \u001b[36m0:00:00\u001b[0m\n",
            "\u001b[2K   \u001b[90m━━━━━━━━━━━━━━━━━━━━━━━━━━━━━━━━━━━━━━━━\u001b[0m \u001b[32m720.4/720.4 kB\u001b[0m \u001b[31m22.4 MB/s\u001b[0m eta \u001b[36m0:00:00\u001b[0m\n",
            "\u001b[2K   \u001b[90m━━━━━━━━━━━━━━━━━━━━━━━━━━━━━━━━━━━━━━━━\u001b[0m \u001b[32m44.4/44.4 kB\u001b[0m \u001b[31m2.5 MB/s\u001b[0m eta \u001b[36m0:00:00\u001b[0m\n",
            "\u001b[2K   \u001b[90m━━━━━━━━━━━━━━━━━━━━━━━━━━━━━━━━━━━━━━━━\u001b[0m \u001b[32m72.0/72.0 kB\u001b[0m \u001b[31m4.1 MB/s\u001b[0m eta \u001b[36m0:00:00\u001b[0m\n",
            "\u001b[2K   \u001b[90m━━━━━━━━━━━━━━━━━━━━━━━━━━━━━━━━━━━━━━━━\u001b[0m \u001b[32m62.5/62.5 kB\u001b[0m \u001b[31m3.6 MB/s\u001b[0m eta \u001b[36m0:00:00\u001b[0m\n",
            "\u001b[?25h"
          ]
        }
      ],
      "source": [
        "!pip install -Uq openai-agents"
      ]
    },
    {
      "cell_type": "code",
      "source": [
        "import nest_asyncio\n",
        "nest_asyncio.apply()"
      ],
      "metadata": {
        "id": "LUOv3EhpvQYR"
      },
      "execution_count": 2,
      "outputs": []
    },
    {
      "cell_type": "code",
      "source": [
        "from agents import Agent, AsyncOpenAI, OpenAIChatCompletionsModel, RunConfig\n",
        "from google.colab import userdata\n",
        "\n",
        "\n",
        "gemini_api_key = userdata.get(\"GEMINI_NEW_KEY\")\n",
        "if gemini_api_key:\n",
        "  print(\"Yes\")\n",
        "else:\n",
        "  print(\"No\")\n",
        "\n",
        "client= AsyncOpenAI(\n",
        "    api_key=gemini_api_key,\n",
        "    base_url=\"https://generativelanguage.googleapis.com/v1beta/openai/\"\n",
        ")\n",
        "\n",
        "model = OpenAIChatCompletionsModel(\n",
        "    openai_client=client,\n",
        "    model=\"gemini-2.0-flash\"\n",
        ")\n",
        "\n",
        "config= RunConfig(\n",
        "    model_provider=client,\n",
        "    model=model,\n",
        "    tracing_disabled=True\n",
        ")\n"
      ],
      "metadata": {
        "colab": {
          "base_uri": "https://localhost:8080/"
        },
        "id": "TwXQHiNCumOF",
        "outputId": "cccd38c6-2505-4dea-d6e5-031512635a41"
      },
      "execution_count": 3,
      "outputs": [
        {
          "output_type": "stream",
          "name": "stdout",
          "text": [
            "Yes\n"
          ]
        }
      ]
    },
    {
      "cell_type": "code",
      "source": [
        "import asyncio\n",
        "from agents import Agent, Runner, handoff\n",
        "\n",
        "spanish_agent= Agent(\n",
        "    name=\"Alejandro\",\n",
        "    instructions=\"You will be answering questions asked in Spanish.\"\n",
        ")\n",
        "\n",
        "english_agent= Agent(\n",
        "    name=\"John\",\n",
        "    instructions=\"You will be answering questions asked in English.\"\n",
        ")\n",
        ""
      ],
      "metadata": {
        "id": "WDPkwdeCwKJ4"
      },
      "execution_count": 5,
      "outputs": []
    },
    {
      "cell_type": "markdown",
      "source": [
        "Customizing handoffs using the handoff() function:\n"
      ],
      "metadata": {
        "id": "-xcgfAlPydq3"
      }
    },
    {
      "cell_type": "code",
      "source": [
        "from agents import Agent, handoff, RunContextWrapper"
      ],
      "metadata": {
        "id": "yBPQPHjuxsrs"
      },
      "execution_count": 10,
      "outputs": []
    },
    {
      "cell_type": "code",
      "source": [
        "def on_handoff(agent: Agent, context: RunContextWrapper):\n",
        "    agent_name = agent.name\n",
        "    print(\"-------------------------\")\n",
        "    print(f\"Handoff to {agent_name}\")\n",
        "    print(\"-------------------------\")\n"
      ],
      "metadata": {
        "id": "4mQkZgjyy_fL"
      },
      "execution_count": 11,
      "outputs": []
    },
    {
      "cell_type": "code",
      "source": [
        "triage_agent= Agent(\n",
        "    name=\"Manager\",\n",
        "    instructions=\"You need to delegate the request to the appropriate agent depending on the language.\",\n",
        "    handoffs= [handoff(spanish_agent, on_handoff=lambda ctx: on_handoff(spanish_agent, ctx)),\n",
        "            handoff(english_agent, on_handoff=lambda ctx: on_handoff(english_agent, ctx))]\n",
        ")\n",
        "\n",
        "async def main(input: str):\n",
        "    result = await Runner.run(triage_agent, input=input, run_config=config)\n",
        "    print(result.final_output)"
      ],
      "metadata": {
        "id": "ack0ydYQznFZ"
      },
      "execution_count": 12,
      "outputs": []
    },
    {
      "cell_type": "code",
      "source": [
        "asyncio.run(main(\"when was the earth came into existence?\"))"
      ],
      "metadata": {
        "colab": {
          "base_uri": "https://localhost:8080/"
        },
        "id": "UYSVI7uE0PjQ",
        "outputId": "cb4a1fb4-e9c0-4d0e-ee32-c0e6f06d0e6c"
      },
      "execution_count": 13,
      "outputs": [
        {
          "output_type": "stream",
          "name": "stdout",
          "text": [
            "-------------------------\n",
            "Handoff to John\n",
            "-------------------------\n",
            "The Earth is estimated to have formed around 4.54 billion years ago.\n",
            "\n"
          ]
        }
      ]
    },
    {
      "cell_type": "code",
      "source": [
        "asyncio.run(main(\"Donde esta Santa Clara?\"))"
      ],
      "metadata": {
        "colab": {
          "base_uri": "https://localhost:8080/"
        },
        "id": "Vt2vEffb0iQ4",
        "outputId": "99666689-925b-42f8-8199-4713178dd96d"
      },
      "execution_count": 14,
      "outputs": [
        {
          "output_type": "stream",
          "name": "stdout",
          "text": [
            "-------------------------\n",
            "Handoff to Alejandro\n",
            "-------------------------\n",
            "Hay muchas ciudades llamadas Santa Clara.  ¿Podrías ser más específico? ¿Te refieres a Santa Clara, Cuba, o a Santa Clara, California, en los Estados Unidos, o a alguna otra Santa Clara?\n",
            "\n"
          ]
        }
      ]
    },
    {
      "cell_type": "code",
      "source": [
        "asyncio.run(main(\"La Santa Clara que ha mencionada en \\\"The Call of the Wild.\"))"
      ],
      "metadata": {
        "colab": {
          "base_uri": "https://localhost:8080/"
        },
        "id": "wPsZAync0peO",
        "outputId": "b71d9ca2-6eaf-4452-b2bd-2f0ce0e4bbb2"
      },
      "execution_count": 15,
      "outputs": [
        {
          "output_type": "stream",
          "name": "stdout",
          "text": [
            "-------------------------\n",
            "Handoff to Alejandro\n",
            "-------------------------\n",
            "En \"La Llamada de lo Salvaje\" (The Call of the Wild), \"Santa Clara\" se refiere a la **ciudad de Santa Clara, California.**  Se menciona como parte del entorno civilizado del que Buck es arrancado al principio de la historia.  Él vivía una vida cómoda y mimada como perro doméstico en una finca en el valle de Santa Clara, antes de ser secuestrado y vendido como perro de trineo en el Klondike.\n",
            "\n"
          ]
        }
      ]
    },
    {
      "cell_type": "code",
      "source": [],
      "metadata": {
        "id": "rP6Z6zX1037M"
      },
      "execution_count": null,
      "outputs": []
    }
  ]
}