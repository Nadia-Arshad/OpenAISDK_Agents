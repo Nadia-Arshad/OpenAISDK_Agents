{
  "nbformat": 4,
  "nbformat_minor": 0,
  "metadata": {
    "colab": {
      "provenance": []
    },
    "kernelspec": {
      "name": "python3",
      "display_name": "Python 3"
    },
    "language_info": {
      "name": "python"
    }
  },
  "cells": [
    {
      "cell_type": "code",
      "execution_count": 25,
      "metadata": {
        "colab": {
          "base_uri": "https://localhost:8080/"
        },
        "collapsed": true,
        "id": "odJhFuPscdoh",
        "outputId": "78d86f60-0c7e-4671-b0b3-be5dc5fad5e1"
      },
      "outputs": [
        {
          "output_type": "stream",
          "name": "stdout",
          "text": [
            "Requirement already satisfied: openai-agents in /usr/local/lib/python3.11/dist-packages (0.0.16)\n",
            "Requirement already satisfied: griffe<2,>=1.5.6 in /usr/local/lib/python3.11/dist-packages (from openai-agents) (1.7.3)\n",
            "Requirement already satisfied: mcp<2,>=1.8.0 in /usr/local/lib/python3.11/dist-packages (from openai-agents) (1.9.1)\n",
            "Requirement already satisfied: openai>=1.81.0 in /usr/local/lib/python3.11/dist-packages (from openai-agents) (1.81.0)\n",
            "Requirement already satisfied: pydantic<3,>=2.10 in /usr/local/lib/python3.11/dist-packages (from openai-agents) (2.11.4)\n",
            "Requirement already satisfied: requests<3,>=2.0 in /usr/local/lib/python3.11/dist-packages (from openai-agents) (2.32.3)\n",
            "Requirement already satisfied: types-requests<3,>=2.0 in /usr/local/lib/python3.11/dist-packages (from openai-agents) (2.32.0.20250515)\n",
            "Requirement already satisfied: typing-extensions<5,>=4.12.2 in /usr/local/lib/python3.11/dist-packages (from openai-agents) (4.13.2)\n",
            "Requirement already satisfied: colorama>=0.4 in /usr/local/lib/python3.11/dist-packages (from griffe<2,>=1.5.6->openai-agents) (0.4.6)\n",
            "Requirement already satisfied: anyio>=4.5 in /usr/local/lib/python3.11/dist-packages (from mcp<2,>=1.8.0->openai-agents) (4.9.0)\n",
            "Requirement already satisfied: httpx-sse>=0.4 in /usr/local/lib/python3.11/dist-packages (from mcp<2,>=1.8.0->openai-agents) (0.4.0)\n",
            "Requirement already satisfied: httpx>=0.27 in /usr/local/lib/python3.11/dist-packages (from mcp<2,>=1.8.0->openai-agents) (0.28.1)\n",
            "Requirement already satisfied: pydantic-settings>=2.5.2 in /usr/local/lib/python3.11/dist-packages (from mcp<2,>=1.8.0->openai-agents) (2.9.1)\n",
            "Requirement already satisfied: python-multipart>=0.0.9 in /usr/local/lib/python3.11/dist-packages (from mcp<2,>=1.8.0->openai-agents) (0.0.20)\n",
            "Requirement already satisfied: sse-starlette>=1.6.1 in /usr/local/lib/python3.11/dist-packages (from mcp<2,>=1.8.0->openai-agents) (2.3.5)\n",
            "Requirement already satisfied: starlette>=0.27 in /usr/local/lib/python3.11/dist-packages (from mcp<2,>=1.8.0->openai-agents) (0.46.2)\n",
            "Requirement already satisfied: uvicorn>=0.23.1 in /usr/local/lib/python3.11/dist-packages (from mcp<2,>=1.8.0->openai-agents) (0.34.2)\n",
            "Requirement already satisfied: distro<2,>=1.7.0 in /usr/local/lib/python3.11/dist-packages (from openai>=1.81.0->openai-agents) (1.9.0)\n",
            "Requirement already satisfied: jiter<1,>=0.4.0 in /usr/local/lib/python3.11/dist-packages (from openai>=1.81.0->openai-agents) (0.10.0)\n",
            "Requirement already satisfied: sniffio in /usr/local/lib/python3.11/dist-packages (from openai>=1.81.0->openai-agents) (1.3.1)\n",
            "Requirement already satisfied: tqdm>4 in /usr/local/lib/python3.11/dist-packages (from openai>=1.81.0->openai-agents) (4.67.1)\n",
            "Requirement already satisfied: annotated-types>=0.6.0 in /usr/local/lib/python3.11/dist-packages (from pydantic<3,>=2.10->openai-agents) (0.7.0)\n",
            "Requirement already satisfied: pydantic-core==2.33.2 in /usr/local/lib/python3.11/dist-packages (from pydantic<3,>=2.10->openai-agents) (2.33.2)\n",
            "Requirement already satisfied: typing-inspection>=0.4.0 in /usr/local/lib/python3.11/dist-packages (from pydantic<3,>=2.10->openai-agents) (0.4.1)\n",
            "Requirement already satisfied: charset-normalizer<4,>=2 in /usr/local/lib/python3.11/dist-packages (from requests<3,>=2.0->openai-agents) (3.4.2)\n",
            "Requirement already satisfied: idna<4,>=2.5 in /usr/local/lib/python3.11/dist-packages (from requests<3,>=2.0->openai-agents) (3.10)\n",
            "Requirement already satisfied: urllib3<3,>=1.21.1 in /usr/local/lib/python3.11/dist-packages (from requests<3,>=2.0->openai-agents) (2.4.0)\n",
            "Requirement already satisfied: certifi>=2017.4.17 in /usr/local/lib/python3.11/dist-packages (from requests<3,>=2.0->openai-agents) (2025.4.26)\n",
            "Requirement already satisfied: httpcore==1.* in /usr/local/lib/python3.11/dist-packages (from httpx>=0.27->mcp<2,>=1.8.0->openai-agents) (1.0.9)\n",
            "Requirement already satisfied: h11>=0.16 in /usr/local/lib/python3.11/dist-packages (from httpcore==1.*->httpx>=0.27->mcp<2,>=1.8.0->openai-agents) (0.16.0)\n",
            "Requirement already satisfied: python-dotenv>=0.21.0 in /usr/local/lib/python3.11/dist-packages (from pydantic-settings>=2.5.2->mcp<2,>=1.8.0->openai-agents) (1.1.0)\n",
            "Requirement already satisfied: click>=7.0 in /usr/local/lib/python3.11/dist-packages (from uvicorn>=0.23.1->mcp<2,>=1.8.0->openai-agents) (8.2.1)\n"
          ]
        }
      ],
      "source": [
        "!pip install openai-agents"
      ]
    },
    {
      "cell_type": "code",
      "source": [
        "import nest_asyncio\n",
        "nest_asyncio.apply()"
      ],
      "metadata": {
        "id": "M4FluWJlwxcn"
      },
      "execution_count": 33,
      "outputs": []
    },
    {
      "cell_type": "code",
      "source": [
        "from google.colab import userdata\n",
        "\n",
        "gemini_api_key = userdata.get(\"GEMINI_NEW_KEY\")\n",
        "\n",
        "if gemini_api_key:\n",
        "  print(\"Yes\")\n",
        "else:\n",
        "  print(\"No\")"
      ],
      "metadata": {
        "colab": {
          "base_uri": "https://localhost:8080/"
        },
        "id": "4DtdXFGodA1m",
        "outputId": "71b83b66-8184-4ffc-d55d-cdfe9d510237"
      },
      "execution_count": 34,
      "outputs": [
        {
          "output_type": "stream",
          "name": "stdout",
          "text": [
            "Yes\n"
          ]
        }
      ]
    },
    {
      "cell_type": "code",
      "source": [
        "from agents import Agent, Runner, OpenAIChatCompletionsModel, AsyncOpenAI\n",
        "\n",
        "client = AsyncOpenAI(\n",
        "    api_key = gemini_api_key,\n",
        "    base_url = \"https://generativelanguage.googleapis.com/v1beta/openai/\"\n",
        ")\n",
        "\n",
        "math_agent = Agent(\n",
        "    name = \"Math Teacher\",\n",
        "    instructions = \"You teach mathematics to students in an interactive way.\",\n",
        "    handoff_description= \"Specialist agent for math queries.\",\n",
        "    model= OpenAIChatCompletionsModel(\n",
        "        openai_client=client, model=\"gemini-2.0-flash\")\n",
        ")\n"
      ],
      "metadata": {
        "id": "T9X8mLCkcg2i"
      },
      "execution_count": 35,
      "outputs": []
    },
    {
      "cell_type": "code",
      "source": [
        "spanish_agent = Agent(\n",
        "    name = \"spanish_teacher\",\n",
        "    instructions = \"You teach spanish to the primary students in a very interactive way.\",\n",
        "    handoff_description= \"Specialist agent for Spanish queries.\",\n",
        "    model= OpenAIChatCompletionsModel(\n",
        "        openai_client=client, model=\"gemini-2.0-flash\")\n",
        ")\n",
        "\n",
        "algebra_agent = Agent(\n",
        "    name = \"algebra_teacher\",\n",
        "    instructions = \"You teach algebra to the primary students in a very interactive way.\",\n",
        "    handoff_description= \"Specialist agent for algebra queries.\",\n",
        "    model= OpenAIChatCompletionsModel(\n",
        "        openai_client=client, model=\"gemini-2.0-flash\")\n",
        ")\n",
        "\n",
        "triage_agent = Agent(\n",
        "    name=\"triage_agent\",\n",
        "    instructions = \"You delegate tasks to specialists according to the queries that come to you.\",\n",
        "    handoffs= [math_agent, spanish_agent, algebra_agent],\n",
        "    model= OpenAIChatCompletionsModel(\n",
        "        openai_client=client, model=\"gemini-2.0-flash\")\n",
        ")\n",
        "\n",
        "result = Runner.run_sync(triage_agent, \"What is the use of quadratic formula in real world.\")\n",
        "print(result.final_output)\n"
      ],
      "metadata": {
        "colab": {
          "base_uri": "https://localhost:8080/"
        },
        "collapsed": true,
        "id": "9vcn987ueSZE",
        "outputId": "f99e991b-6eb7-497d-bc27-c0d107b8d761"
      },
      "execution_count": 36,
      "outputs": [
        {
          "output_type": "stream",
          "name": "stderr",
          "text": [
            "WARNING:openai.agents:OPENAI_API_KEY is not set, skipping trace export\n"
          ]
        },
        {
          "output_type": "stream",
          "name": "stdout",
          "text": [
            "Alright, great question! The quadratic formula might seem abstract, but it's actually super useful in solving real-world problems.\n",
            "\n",
            "Think of it this way: The quadratic formula helps us solve *quadratic equations*, which are equations where the highest power of the variable (usually 'x') is 2.  These equations pop up whenever we're dealing with things that involve areas, trajectories, or optimization.\n",
            "\n",
            "Let's explore some examples together! How about we start with a classic:\n",
            "\n",
            "**1. Projectile Motion:**\n",
            "\n",
            "Imagine you're throwing a ball. The path it takes through the air is a curve, right? That curve can be described by a quadratic equation.\n",
            "\n",
            "*   **Question:** If you know how high you throw the ball and how far away it lands, you can use a quadratic equation to figure out things like the ball's maximum height or how long it was in the air. Let's say we want to know when the ball hits the ground (height = 0). The quadratic formula can pinpoint the *time* at which the ball's height is zero!\n",
            "\n",
            "**2. Area Calculations:**\n",
            "\n",
            "Let's say you're designing a rectangular garden.\n",
            "\n",
            "*   **Question:** You know you want the garden to have a specific area (e.g., 100 square feet), and you also know that the length has to be a certain amount longer than the width (e.g., 5 feet longer). You can set up a quadratic equation to find the exact dimensions (length and width) of the garden!\n",
            "\n",
            "**3. Optimization Problems:**\n",
            "\n",
            "Businesses often use quadratic equations to maximize profits or minimize costs.\n",
            "\n",
            "*   **Question:** Imagine a company is trying to figure out the best price to sell their product to make the most money. If they raise the price too high, fewer people will buy it. If they lower the price too much, they won't make enough profit per item.  A quadratic equation can model the relationship between price and profit, and the quadratic formula can help find the price that maximizes profit!\n",
            "\n",
            "**4. Engineering and Physics:**\n",
            "\n",
            "Quadratic equations appear frequently in engineering and physics problems.\n",
            "\n",
            "*   **Examples:** Calculating the sag in a cable, designing lenses for telescopes, analyzing electrical circuits, and determining the flow of water through pipes.\n",
            "\n",
            "**Let's make it interactive!**\n",
            "\n",
            "Which of these examples sounds most interesting to you? Or, can you think of any other situations where something might follow a curved path or where you need to calculate an area? If you have an idea, tell me and we can try to come up with a simple quadratic equation that might apply.\n",
            "\n"
          ]
        }
      ]
    },
    {
      "cell_type": "markdown",
      "source": [
        "Agent on Run Level:"
      ],
      "metadata": {
        "id": "lPdTFUuIi_-t"
      }
    },
    {
      "cell_type": "code",
      "source": [
        "from agents import Agent, Runner, OpenAIChatCompletionsModel, AsyncOpenAI # Import Runner\n",
        "import asyncio\n",
        "\n",
        "\n",
        "async def main():\n",
        "  agent = Agent(\n",
        "      name = \"french_agent\",\n",
        "      instructions= \"You teach French to primary students in a very interactive way.\",\n",
        "      model= OpenAIChatCompletionsModel(\n",
        "          openai_client=client, model=\"gemini-2.0-flash\")\n",
        ")\n",
        "\n",
        "  result = await Runner.run(agent, \"How would you make kids learn colors in french.\")\n",
        "  print(result.final_output)\n",
        "\n",
        "if __name__ == \"__main__\":\n",
        "    asyncio.run(main())\n",
        ""
      ],
      "metadata": {
        "colab": {
          "base_uri": "https://localhost:8080/"
        },
        "id": "9LuLnT3GiF7W",
        "outputId": "f359f4e9-6cc6-44cd-ecd3-ae5a6eb22f9e"
      },
      "execution_count": 39,
      "outputs": [
        {
          "output_type": "stream",
          "name": "stderr",
          "text": [
            "WARNING:openai.agents:OPENAI_API_KEY is not set, skipping trace export\n"
          ]
        },
        {
          "output_type": "stream",
          "name": "stdout",
          "text": [
            "Alright, let's get ready to paint the town... *en français!*  Here's how I'd approach teaching colors to primary students in a super interactive and fun way:\n",
            "\n",
            "**1.  \"Bonjour Couleurs!\" Introduction & Visuals (5-10 minutes):**\n",
            "\n",
            "*   **Enthusiastic Greeting & Review:** \"Bonjour les enfants! Comment ça va aujourd'hui? Super!  Today we are going to learn about colors! *Les couleurs!*\"\n",
            "*   **Large Visuals:**  I'd use BIG, bright flashcards or a projected image of the colors with the French word clearly written beneath.  Think primary colors first:\n",
            "    *   (Hold up a red card) \"Rouge! Répétez: *Rouge!*  Like an apple! Une pomme *rouge!*\"\n",
            "    *   (Hold up a blue card) \"Bleu! Répétez: *Bleu!* Like the sky! Le ciel est *bleu!*\"\n",
            "    *   (Hold up a yellow card) \"Jaune! Répétez: *Jaune!* Like the sun! Le soleil est *jaune!*\"\n",
            "*   **Actions & Gestures:**  Connect each color with a gesture. For example:\n",
            "    *   *Rouge:* Point to your lips (red lipstick association).\n",
            "    *   *Bleu:*  Look up at the sky and point.\n",
            "    *   *Jaune:*  Make a \"sun\" shape with your hands.\n",
            "*   **Simple Question:**  \"Quelle est votre couleur préférée?\" (What's your favorite color?) Don't pressure them to answer in full sentences, just encourage them to say \"*Rouge!*\" or \"*Bleu!*\"\n",
            "\n",
            "**2.  \"Chasse aux Couleurs!\" Color Hunt (10-15 minutes):**\n",
            "\n",
            "*   **Explanation:** \"Okay, les enfants, we are going on a color hunt! *Une chasse aux couleurs!* I will say a color, and you have to find something in the classroom that is that color!\"\n",
            "*   **Active Game:**  Call out colors, one at a time:\n",
            "    *   \"Rouge!  Allez, trouvez quelque chose de *rouge!*\" (Go, find something red!)\n",
            "    *   \"Bleu!  Vite!  Trouvez quelque chose de *bleu!*\" (Quick! Find something blue!)\n",
            "*   **Variety:** Change it up!  Instead of them finding something, *you* point to something:\n",
            "    *   (Point to a yellow crayon) \"C'est... *jaune!*\"  Repeat: \"*Jaune!*\"\n",
            "*   **Positive Reinforcement:** Lots of praise and smiles! \"Très bien! Excellent! Bravo!\"\n",
            "\n",
            "**3.  \"Couleurs et Chansons!\" Color Songs (5-10 minutes):**\n",
            "\n",
            "*   **Music is Key:**  Find a catchy color song in French.  YouTube is your friend!  There are many great options.  Ideally, the song should repeat the colors clearly and slowly.\n",
            "*   **Action Song:** Even better if it has actions!  Kids learn through movement.\n",
            "*   **Sing Along:** Sing along with the song a few times. Encourage the kids to sing and do the actions.\n",
            "*   **Example Song Snippet (very simple):**\n",
            "    *   *Rouge, rouge, rouge!* (Red, red, red!)\n",
            "    *   *Bleu, bleu, bleu!* (Blue, blue, blue!)\n",
            "    *   *Jaune, jaune, jaune!* (Yellow, yellow, yellow!)\n",
            "    *   *C'est facile, c'est chouette!* (It's easy, it's great!)\n",
            "\n",
            "**4. \"Dessin et Couleurs!\"  Drawing & Coloring (15-20 minutes):**\n",
            "\n",
            "*   **Simple Activity:** Give each child a piece of paper and crayons or colored pencils.\n",
            "*   **Instructions:**  Give simple instructions in French, reinforcing the colors.\n",
            "    *   \"Dessinez un soleil *jaune*.\" (Draw a yellow sun.)\n",
            "    *   \"Dessinez un nuage *bleu*.\" (Draw a blue cloud.)\n",
            "    *   \"Dessinez une fleur *rouge*.\" (Draw a red flower.)\n",
            "*   **Repeat Colors:** As they draw, circulate and ask them in French what color they are using:  \"Quelle couleur est-ce?\" (What color is that?)  Encourage them to say \"*Rouge!*,\" \"*Bleu!*,\" etc.\n",
            "*   **More Complex Colors (if appropriate):** If they're doing well, introduce other colors like *vert* (green), *orange*, *violet* (purple), *rose* (pink), *noir* (black), and *blanc* (white).\n",
            "\n",
            "**5.  \"Couleurs et Jeux!\"  Color Games (10-15 minutes):**\n",
            "\n",
            "*   **Color Sorting:** If you have colored blocks, toys, or even pieces of paper, have the children sort them into piles by color.  Name the color as they sort: \"*Rouge!*  Mets-le avec le *rouge!*\" (Red! Put it with the red!)\n",
            "*   **\"I Spy\" Game (Simplified):** \"*Je vois... quelque chose de... bleu!*\" (I spy... something blue!)\n",
            "*   **Simon Says (Couleur Version):** \"*Simon dit... touchez quelque chose de... jaune!*\" (Simon says... touch something yellow!)\n",
            "\n",
            "**Key Strategies for Success:**\n",
            "\n",
            "*   **Repetition, Repetition, Repetition!**  The more they hear and say the words, the better they'll remember them.\n",
            "*   **Make it Fun!**  Enthusiasm is contagious! If you're having fun, they will too.\n",
            "*   **Use Visuals!**  Pictures, objects, and gestures are invaluable.\n",
            "*   **Keep it Short and Sweet:**  Young children have short attention spans.\n",
            "*   **Positive Reinforcement!**  Praise and encouragement go a long way.  Use phrases like \"Bravo!\", \"Très bien!\", \"Excellent!\", and \"Magnifique!\"\n",
            "*   **Don't be afraid to use English... initially!** You can gradually reduce the amount of English you use as they become more familiar with the colors.\n",
            "*   **Be Patient!**  Learning takes time.\n",
            "\n",
            "**Important French Phrases to Use:**\n",
            "\n",
            "*   *Répétez!* (Repeat!)\n",
            "*   *Quelle couleur est-ce?* (What color is that?)\n",
            "*   *Trouvez...* (Find...)\n",
            "*   *Regardez!* (Look!)\n",
            "*   *Écoutez!* (Listen!)\n",
            "*   *C'est...* (It's...)\n",
            "*   *Bravo!* (Well done!)\n",
            "*   *Très bien!* (Very good!)\n",
            "\n",
            "This is just a starting point, of course.  You can adapt these activities based on your students' age, level, and interests.  The most important thing is to create a fun, engaging, and supportive learning environment!  Bonne chance! (Good luck!)  And let me know if you have any other questions!\n",
            "\n"
          ]
        }
      ]
    },
    {
      "cell_type": "code",
      "source": [],
      "metadata": {
        "id": "ED90_ZuKv5ll"
      },
      "execution_count": 30,
      "outputs": []
    }
  ]
}